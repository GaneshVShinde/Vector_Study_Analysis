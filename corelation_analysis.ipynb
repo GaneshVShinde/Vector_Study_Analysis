{
 "cells": [
  {
   "cell_type": "code",
   "execution_count": 15,
   "metadata": {},
   "outputs": [],
   "source": [
    "import pandas as pd\n",
    "import numpy as np\n",
    "import matplotlib.pyplot as plt"
   ]
  },
  {
   "cell_type": "code",
   "execution_count": 16,
   "metadata": {},
   "outputs": [],
   "source": [
    "#Loading Data\n",
    "data = pd.read_csv(\"./Classroom with 10th data - Sheet1.csv\")"
   ]
  },
  {
   "cell_type": "code",
   "execution_count": 17,
   "metadata": {},
   "outputs": [],
   "source": [
    "#Changing Column name\n",
    "data.columns=['Serial_No', 'Student_Name', 'Student_Code', 'Group_Type',\n",
    "       'School_Number', 'Student_Number', 'Gender',\n",
    "       'Geometric_Diagrams_Score', 'Geometry_along_with_Keywords',\n",
    "       'Algebraic_Equations_Score', 'Algebra_along_with_Keywords',\n",
    "       'Tenth_Average_Math_and_Scie', 'Board']"
   ]
  },
  {
   "cell_type": "code",
   "execution_count": 18,
   "metadata": {},
   "outputs": [],
   "source": [
    "#Removing #DIV/0 rows\n",
    "data=data[data.Tenth_Average_Math_and_Scie!='#DIV/0!']\n",
    "data=data[1:] #Removed first row because no info in first Row"
   ]
  },
  {
   "cell_type": "markdown",
   "metadata": {},
   "source": [
    "### Total number of SSC and CBSE Students"
   ]
  },
  {
   "cell_type": "code",
   "execution_count": 19,
   "metadata": {},
   "outputs": [
    {
     "data": {
      "text/plain": [
       "68"
      ]
     },
     "execution_count": 19,
     "metadata": {},
     "output_type": "execute_result"
    }
   ],
   "source": [
    "(data.Board=='CBSE').values.sum()"
   ]
  },
  {
   "cell_type": "code",
   "execution_count": 20,
   "metadata": {},
   "outputs": [
    {
     "data": {
      "text/plain": [
       "170"
      ]
     },
     "execution_count": 20,
     "metadata": {},
     "output_type": "execute_result"
    }
   ],
   "source": [
    "(data.Board=='SSC').values.sum()"
   ]
  },
  {
   "cell_type": "code",
   "execution_count": 21,
   "metadata": {},
   "outputs": [],
   "source": [
    "ind=data.isnull().values.sum(axis=1)\n",
    "ind=ind!= 1\n",
    "data=data[ind]"
   ]
  },
  {
   "cell_type": "code",
   "execution_count": 22,
   "metadata": {},
   "outputs": [
    {
     "data": {
      "text/plain": [
       "(234, 13)"
      ]
     },
     "execution_count": 22,
     "metadata": {},
     "output_type": "execute_result"
    }
   ],
   "source": [
    "data.Tenth_Average_Math_and_Scie=data.Tenth_Average_Math_and_Scie.astype(float)\n",
    "data.shape"
   ]
  },
  {
   "cell_type": "markdown",
   "metadata": {},
   "source": [
    "### Discritization of Total Math Science Percentages"
   ]
  },
  {
   "cell_type": "code",
   "execution_count": 23,
   "metadata": {},
   "outputs": [],
   "source": [
    "col =np.array(234*[\"greter than 90\"])\n",
    "col[(data.Tenth_Average_Math_and_Scie>=90).values]=\"greter than 90\"\n",
    "col[(data.Tenth_Average_Math_and_Scie<90).values & (data.Tenth_Average_Math_and_Scie>=60).values]=\"b/w 60 and 90\"\n",
    "col[(data.Tenth_Average_Math_and_Scie<60).values]=\"below 60\""
   ]
  },
  {
   "cell_type": "code",
   "execution_count": 24,
   "metadata": {},
   "outputs": [],
   "source": [
    "data[\"Grade\"]=col\n",
    "# data[data.Tenth_Average_Math_and_Scie<80 & data.Tenth_Average_Math_and_Scie>=50] = \"Avrage\"\n",
    "# data[data.Tenth_Average_Math_and_Scie<50] = \"Under_performed\""
   ]
  },
  {
   "cell_type": "code",
   "execution_count": 25,
   "metadata": {},
   "outputs": [],
   "source": [
    "control_Group=data[data.Group_Type=='C']\n",
    "experimental_group = data[data.Group_Type=='E']"
   ]
  },
  {
   "cell_type": "markdown",
   "metadata": {},
   "source": [
    "### Scatter Plot method"
   ]
  },
  {
   "cell_type": "code",
   "execution_count": 26,
   "metadata": {},
   "outputs": [],
   "source": [
    "def plot_scatter_plot(data,against,title):\n",
    "    '''\n",
    "    data: pd Data Frame\n",
    "    against: name of column which is used to plot Scatter Plots(Correlation Plots) against Tenth_Average_Math_and_Scie\n",
    "    title: Plot Title \n",
    "    '''\n",
    "    plt.scatter(data.Tenth_Average_Math_and_Scie.values[data.Board=='CBSE'],\n",
    "            data[against].values[data.Board=='CBSE'],label = 'CBSE')\n",
    "    plt.scatter(data.Tenth_Average_Math_and_Scie.values[data.Board=='SSC'],\n",
    "            data[against].values[data.Board=='SSC'],label='SSC')\n",
    "    plt.legend()\n",
    "    plt.title(title+ \"relation with \" +against)"
   ]
  },
  {
   "cell_type": "markdown",
   "metadata": {},
   "source": [
    "### Total Number of SSC and CBSC in Control Group"
   ]
  },
  {
   "cell_type": "code",
   "execution_count": 27,
   "metadata": {},
   "outputs": [
    {
     "name": "stdout",
     "output_type": "stream",
     "text": [
      "SSC CBSE\n"
     ]
    },
    {
     "data": {
      "text/plain": [
       "(82, 37)"
      ]
     },
     "execution_count": 27,
     "metadata": {},
     "output_type": "execute_result"
    }
   ],
   "source": [
    "print(\"SSC\",\"CBSE\")\n",
    "(control_Group.Board=='SSC').sum(),(control_Group.Board=='CBSE').sum()"
   ]
  },
  {
   "cell_type": "code",
   "execution_count": 36,
   "metadata": {},
   "outputs": [
    {
     "data": {
      "image/png": "[encoded data removed]",
      "text/plain": [
       "<Figure size 432x288 with 1 Axes>"
      ]
     },
     "metadata": {},
     "output_type": "display_data"
    }
   ],
   "source": [
    "plot_scatter_plot(control_Group,\"Geometry_along_with_Keywords\",\" Control Geometry\")"
   ]
  },
  {
   "cell_type": "code",
   "execution_count": 28,
   "metadata": {},
   "outputs": [
    {
     "data": {
      "image/png": "[encoded data removed]",
      "text/plain": [
       "<Figure size 432x288 with 1 Axes>"
      ]
     },
     "metadata": {},
     "output_type": "display_data"
    }
   ],
   "source": [
    "plot_scatter_plot(control_Group,\"Geometric_Diagrams_Score\",\"Control Group \")"
   ]
  },
  {
   "cell_type": "code",
   "execution_count": 29,
   "metadata": {},
   "outputs": [],
   "source": [
    "zzz=(control_Group.Geometric_Diagrams_Score  + control_Group.Geometry_along_with_Keywords).values\n",
    "bb=control_Group.Tenth_Average_Math_and_Scie.values"
   ]
  },
  {
   "cell_type": "code",
   "execution_count": 32,
   "metadata": {},
   "outputs": [
    {
     "data": {
      "text/plain": [
       "638.0"
      ]
     },
     "execution_count": 32,
     "metadata": {},
     "output_type": "execute_result"
    }
   ],
   "source": [
    "data.Geometry_along_with_Keywords.sum()"
   ]
  },
  {
   "cell_type": "code",
   "execution_count": 35,
   "metadata": {},
   "outputs": [
    {
     "data": {
      "text/plain": [
       "(234, 14)"
      ]
     },
     "execution_count": 35,
     "metadata": {},
     "output_type": "execute_result"
    }
   ],
   "source": [
    "data.shape"
   ]
  },
  {
   "cell_type": "code",
   "execution_count": 16,
   "metadata": {},
   "outputs": [
    {
     "data": {
      "text/plain": [
       "<matplotlib.axes._subplots.AxesSubplot at 0x7f15b528d780>"
      ]
     },
     "execution_count": 16,
     "metadata": {},
     "output_type": "execute_result"
    },
    {
     "data": {
      "image/png": "[encoded data removed]",
      "text/plain": [
       "<Figure size 432x288 with 1 Axes>"
      ]
     },
     "metadata": {},
     "output_type": "display_data"
    }
   ],
   "source": [
    "import seaborn as sns # include library\n",
    "sns.scatterplot(x=bb, y=zzz, hue=control_Group.Board.values)"
   ]
  },
  {
   "cell_type": "code",
   "execution_count": 78,
   "metadata": {},
   "outputs": [],
   "source": [
    "def get_details_according_cap(data_,clm_name,cap):\n",
    "    \"\"\"data: data frame\n",
    "       clm_name: column name like Geometry_along_with_Keywords or Algebraic_Equations_Score \n",
    "                   in string format\n",
    "       cap: Tenth_Average_Math_and_Scie < cap so cap could be like 85 | 80 |70 anything\n",
    "    \"\"\"\n",
    "    data_sudo=data_[data_.Tenth_Average_Math_and_Scie<cap]\n",
    "    number_student_below_cap  = data_sudo.shape[0]\n",
    "    number_student_with_clm_feature  = (data_sudo[clm_name]>0).sum()\n",
    "    mn=data_sudo[data_sudo[clm_name]>0][clm_name].mean()\n",
    "    mdn=data_sudo[data_sudo[clm_name]>0][clm_name].median()\n",
    "    std_dn=data_sudo[data_sudo[clm_name]>0][clm_name].std()\n",
    "    dict_={\"number_student_below_\"+str(cap):number_student_below_cap,\n",
    "            \"number_student_above_Zeow_\"+clm_name:number_student_with_clm_feature,\n",
    "           \"mean\":mn,\n",
    "           \"median\":mdn,\n",
    "           \"std\":std_dn\n",
    "          }\n",
    "    return dict_"
   ]
  },
  {
   "cell_type": "code",
   "execution_count": 76,
   "metadata": {},
   "outputs": [
    {
     "data": {
      "text/plain": [
       "{'number_student_below_85': 51,\n",
       " 'number_student_above_Zeow_Geometry_along_with_Keywords': 22,\n",
       " 'mean': 2.409090909090909,\n",
       " 'median': 2.0,\n",
       " 'std': 1.790426682561368}"
      ]
     },
     "execution_count": 76,
     "metadata": {},
     "output_type": "execute_result"
    }
   ],
   "source": [
    "get_details_according_cap(control_Group,\"Geometry_along_with_Keywords\",85)"
   ]
  },
  {
   "cell_type": "code",
   "execution_count": 77,
   "metadata": {},
   "outputs": [
    {
     "data": {
      "text/plain": [
       "{'number_student_below_85': 37,\n",
       " 'number_student_above_Zeow_Geometry_along_with_Keywords': 19,\n",
       " 'mean': 3.0526315789473686,\n",
       " 'median': 2.0,\n",
       " 'std': 2.4826886011053584}"
      ]
     },
     "execution_count": 77,
     "metadata": {},
     "output_type": "execute_result"
    }
   ],
   "source": [
    "get_details_according_cap(experimental_group,\"Geometry_along_with_Keywords\",85)"
   ]
  },
  {
   "cell_type": "code",
   "execution_count": 15,
   "metadata": {},
   "outputs": [
    {
     "data": {
      "image/png": "[encoded data removed]",
      "text/plain": [
       "<Figure size 432x288 with 1 Axes>"
      ]
     },
     "metadata": {},
     "output_type": "display_data"
    }
   ],
   "source": [
    "plot_scatter_plot(experimental_group,\"Geometric_Diagrams_Score\",\"Experimental Group \")"
   ]
  },
  {
   "cell_type": "code",
   "execution_count": 23,
   "metadata": {},
   "outputs": [],
   "source": [
    "expmntl_sudo=experimental_group[experimental_group.Tenth_Average_Math_and_Scie<85]"
   ]
  },
  {
   "cell_type": "code",
   "execution_count": 30,
   "metadata": {},
   "outputs": [
    {
     "data": {
      "text/plain": [
       "(13, 18)"
      ]
     },
     "execution_count": 30,
     "metadata": {},
     "output_type": "execute_result"
    }
   ],
   "source": [
    "(expmntl_sudo.Geometric_Diagrams_Score>0).values.sum(),(expmntl_sudo.Algebraic_Equations_Score>0).values.sum()"
   ]
  },
  {
   "cell_type": "code",
   "execution_count": 35,
   "metadata": {},
   "outputs": [],
   "source": [
    "Geometry_feature_expmntl=expmntl_sudo.Geometric_Diagrams_Score + expmntl_sudo.Geometry_along_with_Keywords"
   ]
  },
  {
   "cell_type": "code",
   "execution_count": 36,
   "metadata": {},
   "outputs": [
    {
     "data": {
      "text/plain": [
       "19"
      ]
     },
     "execution_count": 36,
     "metadata": {},
     "output_type": "execute_result"
    }
   ],
   "source": [
    "(Geometry_feature_expmntl.values>0).sum()"
   ]
  },
  {
   "cell_type": "code",
   "execution_count": 16,
   "metadata": {},
   "outputs": [
    {
     "data": {
      "image/png": "[encoded data removed]",
      "text/plain": [
       "<Figure size 432x288 with 1 Axes>"
      ]
     },
     "metadata": {},
     "output_type": "display_data"
    }
   ],
   "source": [
    "plot_scatter_plot(experimental_group,\"Algebraic_Equations_Score\",\"Experimental Group \")"
   ]
  },
  {
   "cell_type": "markdown",
   "metadata": {},
   "source": [
    "## Corelation of Control and Experimental Group"
   ]
  },
  {
   "cell_type": "code",
   "execution_count": 118,
   "metadata": {},
   "outputs": [
    {
     "data": {
      "text/html": [
       "<div>\n",
       "<style scoped>\n",
       "    .dataframe tbody tr th:only-of-type {\n",
       "        vertical-align: middle;\n",
       "    }\n",
       "\n",
       "    .dataframe tbody tr th {\n",
       "        vertical-align: top;\n",
       "    }\n",
       "\n",
       "    .dataframe thead th {\n",
       "        text-align: right;\n",
       "    }\n",
       "</style>\n",
       "<table border=\"1\" class=\"dataframe\">\n",
       "  <thead>\n",
       "    <tr style=\"text-align: right;\">\n",
       "      <th></th>\n",
       "      <th>Geometric_Diagrams_Score</th>\n",
       "      <th>Geometry_along_with_Keywords</th>\n",
       "      <th>Algebraic_Equations_Score</th>\n",
       "      <th>Algebra_along_with_Keywords</th>\n",
       "      <th>Tenth_Average_Math_and_Scie</th>\n",
       "    </tr>\n",
       "  </thead>\n",
       "  <tbody>\n",
       "    <tr>\n",
       "      <th>Geometric_Diagrams_Score</th>\n",
       "      <td>1.000000</td>\n",
       "      <td>0.769662</td>\n",
       "      <td>0.497988</td>\n",
       "      <td>0.380674</td>\n",
       "      <td>0.425669</td>\n",
       "    </tr>\n",
       "    <tr>\n",
       "      <th>Geometry_along_with_Keywords</th>\n",
       "      <td>0.769662</td>\n",
       "      <td>1.000000</td>\n",
       "      <td>0.407019</td>\n",
       "      <td>0.376662</td>\n",
       "      <td>0.430646</td>\n",
       "    </tr>\n",
       "    <tr>\n",
       "      <th>Algebraic_Equations_Score</th>\n",
       "      <td>0.497988</td>\n",
       "      <td>0.407019</td>\n",
       "      <td>1.000000</td>\n",
       "      <td>0.847528</td>\n",
       "      <td>0.297429</td>\n",
       "    </tr>\n",
       "    <tr>\n",
       "      <th>Algebra_along_with_Keywords</th>\n",
       "      <td>0.380674</td>\n",
       "      <td>0.376662</td>\n",
       "      <td>0.847528</td>\n",
       "      <td>1.000000</td>\n",
       "      <td>0.211484</td>\n",
       "    </tr>\n",
       "    <tr>\n",
       "      <th>Tenth_Average_Math_and_Scie</th>\n",
       "      <td>0.425669</td>\n",
       "      <td>0.430646</td>\n",
       "      <td>0.297429</td>\n",
       "      <td>0.211484</td>\n",
       "      <td>1.000000</td>\n",
       "    </tr>\n",
       "  </tbody>\n",
       "</table>\n",
       "</div>"
      ],
      "text/plain": [
       "                              Geometric_Diagrams_Score  \\\n",
       "Geometric_Diagrams_Score                      1.000000   \n",
       "Geometry_along_with_Keywords                  0.769662   \n",
       "Algebraic_Equations_Score                     0.497988   \n",
       "Algebra_along_with_Keywords                   0.380674   \n",
       "Tenth_Average_Math_and_Scie                   0.425669   \n",
       "\n",
       "                              Geometry_along_with_Keywords  \\\n",
       "Geometric_Diagrams_Score                          0.769662   \n",
       "Geometry_along_with_Keywords                      1.000000   \n",
       "Algebraic_Equations_Score                         0.407019   \n",
       "Algebra_along_with_Keywords                       0.376662   \n",
       "Tenth_Average_Math_and_Scie                       0.430646   \n",
       "\n",
       "                              Algebraic_Equations_Score  \\\n",
       "Geometric_Diagrams_Score                       0.497988   \n",
       "Geometry_along_with_Keywords                   0.407019   \n",
       "Algebraic_Equations_Score                      1.000000   \n",
       "Algebra_along_with_Keywords                    0.847528   \n",
       "Tenth_Average_Math_and_Scie                    0.297429   \n",
       "\n",
       "                              Algebra_along_with_Keywords  \\\n",
       "Geometric_Diagrams_Score                         0.380674   \n",
       "Geometry_along_with_Keywords                     0.376662   \n",
       "Algebraic_Equations_Score                        0.847528   \n",
       "Algebra_along_with_Keywords                      1.000000   \n",
       "Tenth_Average_Math_and_Scie                      0.211484   \n",
       "\n",
       "                              Tenth_Average_Math_and_Scie  \n",
       "Geometric_Diagrams_Score                         0.425669  \n",
       "Geometry_along_with_Keywords                     0.430646  \n",
       "Algebraic_Equations_Score                        0.297429  \n",
       "Algebra_along_with_Keywords                      0.211484  \n",
       "Tenth_Average_Math_and_Scie                      1.000000  "
      ]
     },
     "execution_count": 118,
     "metadata": {},
     "output_type": "execute_result"
    }
   ],
   "source": [
    "control_Group.corr()"
   ]
  },
  {
   "cell_type": "code",
   "execution_count": 119,
   "metadata": {},
   "outputs": [
    {
     "data": {
      "text/html": [
       "<div>\n",
       "<style scoped>\n",
       "    .dataframe tbody tr th:only-of-type {\n",
       "        vertical-align: middle;\n",
       "    }\n",
       "\n",
       "    .dataframe tbody tr th {\n",
       "        vertical-align: top;\n",
       "    }\n",
       "\n",
       "    .dataframe thead th {\n",
       "        text-align: right;\n",
       "    }\n",
       "</style>\n",
       "<table border=\"1\" class=\"dataframe\">\n",
       "  <thead>\n",
       "    <tr style=\"text-align: right;\">\n",
       "      <th></th>\n",
       "      <th>Geometric_Diagrams_Score</th>\n",
       "      <th>Geometry_along_with_Keywords</th>\n",
       "      <th>Algebraic_Equations_Score</th>\n",
       "      <th>Algebra_along_with_Keywords</th>\n",
       "      <th>Tenth_Average_Math_and_Scie</th>\n",
       "    </tr>\n",
       "  </thead>\n",
       "  <tbody>\n",
       "    <tr>\n",
       "      <th>Geometric_Diagrams_Score</th>\n",
       "      <td>1.000000</td>\n",
       "      <td>0.773687</td>\n",
       "      <td>0.141398</td>\n",
       "      <td>0.069965</td>\n",
       "      <td>0.252086</td>\n",
       "    </tr>\n",
       "    <tr>\n",
       "      <th>Geometry_along_with_Keywords</th>\n",
       "      <td>0.773687</td>\n",
       "      <td>1.000000</td>\n",
       "      <td>0.110126</td>\n",
       "      <td>0.163305</td>\n",
       "      <td>0.384789</td>\n",
       "    </tr>\n",
       "    <tr>\n",
       "      <th>Algebraic_Equations_Score</th>\n",
       "      <td>0.141398</td>\n",
       "      <td>0.110126</td>\n",
       "      <td>1.000000</td>\n",
       "      <td>0.731031</td>\n",
       "      <td>0.388195</td>\n",
       "    </tr>\n",
       "    <tr>\n",
       "      <th>Algebra_along_with_Keywords</th>\n",
       "      <td>0.069965</td>\n",
       "      <td>0.163305</td>\n",
       "      <td>0.731031</td>\n",
       "      <td>1.000000</td>\n",
       "      <td>0.457857</td>\n",
       "    </tr>\n",
       "    <tr>\n",
       "      <th>Tenth_Average_Math_and_Scie</th>\n",
       "      <td>0.252086</td>\n",
       "      <td>0.384789</td>\n",
       "      <td>0.388195</td>\n",
       "      <td>0.457857</td>\n",
       "      <td>1.000000</td>\n",
       "    </tr>\n",
       "  </tbody>\n",
       "</table>\n",
       "</div>"
      ],
      "text/plain": [
       "                              Geometric_Diagrams_Score  \\\n",
       "Geometric_Diagrams_Score                      1.000000   \n",
       "Geometry_along_with_Keywords                  0.773687   \n",
       "Algebraic_Equations_Score                     0.141398   \n",
       "Algebra_along_with_Keywords                   0.069965   \n",
       "Tenth_Average_Math_and_Scie                   0.252086   \n",
       "\n",
       "                              Geometry_along_with_Keywords  \\\n",
       "Geometric_Diagrams_Score                          0.773687   \n",
       "Geometry_along_with_Keywords                      1.000000   \n",
       "Algebraic_Equations_Score                         0.110126   \n",
       "Algebra_along_with_Keywords                       0.163305   \n",
       "Tenth_Average_Math_and_Scie                       0.384789   \n",
       "\n",
       "                              Algebraic_Equations_Score  \\\n",
       "Geometric_Diagrams_Score                       0.141398   \n",
       "Geometry_along_with_Keywords                   0.110126   \n",
       "Algebraic_Equations_Score                      1.000000   \n",
       "Algebra_along_with_Keywords                    0.731031   \n",
       "Tenth_Average_Math_and_Scie                    0.388195   \n",
       "\n",
       "                              Algebra_along_with_Keywords  \\\n",
       "Geometric_Diagrams_Score                         0.069965   \n",
       "Geometry_along_with_Keywords                     0.163305   \n",
       "Algebraic_Equations_Score                        0.731031   \n",
       "Algebra_along_with_Keywords                      1.000000   \n",
       "Tenth_Average_Math_and_Scie                      0.457857   \n",
       "\n",
       "                              Tenth_Average_Math_and_Scie  \n",
       "Geometric_Diagrams_Score                         0.252086  \n",
       "Geometry_along_with_Keywords                     0.384789  \n",
       "Algebraic_Equations_Score                        0.388195  \n",
       "Algebra_along_with_Keywords                      0.457857  \n",
       "Tenth_Average_Math_and_Scie                      1.000000  "
      ]
     },
     "execution_count": 119,
     "metadata": {},
     "output_type": "execute_result"
    }
   ],
   "source": [
    "experimental_group.corr()"
   ]
  },
  {
   "cell_type": "code",
   "execution_count": 120,
   "metadata": {},
   "outputs": [
    {
     "data": {
      "text/plain": [
       "<matplotlib.axes._subplots.AxesSubplot at 0x7f1982f72438>"
      ]
     },
     "execution_count": 120,
     "metadata": {},
     "output_type": "execute_result"
    },
    {
     "data": {
      "image/png": "[encoded data removed]",
      "text/plain": [
       "<Figure size 432x288 with 1 Axes>"
      ]
     },
     "metadata": {},
     "output_type": "display_data"
    }
   ],
   "source": [
    "control_Group.Geometric_Diagrams_Score.hist()"
   ]
  },
  {
   "cell_type": "code",
   "execution_count": 121,
   "metadata": {},
   "outputs": [
    {
     "data": {
      "text/plain": [
       "<matplotlib.axes._subplots.AxesSubplot at 0x7f1982e91b00>"
      ]
     },
     "execution_count": 121,
     "metadata": {},
     "output_type": "execute_result"
    },
    {
     "data": {
      "image/png": "[encoded data removed]",
      "text/plain": [
       "<Figure size 432x288 with 1 Axes>"
      ]
     },
     "metadata": {},
     "output_type": "display_data"
    }
   ],
   "source": [
    "experimental_group.Geometric_Diagrams_Score.hist()"
   ]
  },
  {
   "cell_type": "code",
   "execution_count": 114,
   "metadata": {},
   "outputs": [
    {
     "data": {
      "image/png": "[encoded data removed]",
      "text/plain": [
       "<Figure size 432x288 with 1 Axes>"
      ]
     },
     "metadata": {},
     "output_type": "display_data"
    }
   ],
   "source": [
    "plot_scatter_plot(control_Group,'Algebraic_Equations_Score',\"Control Group \")"
   ]
  },
  {
   "cell_type": "code",
   "execution_count": 115,
   "metadata": {},
   "outputs": [
    {
     "data": {
      "image/png": "[encoded data removed]",
      "text/plain": [
       "<Figure size 432x288 with 1 Axes>"
      ]
     },
     "metadata": {},
     "output_type": "display_data"
    }
   ],
   "source": [
    "plot_scatter_plot(experimental_group,\"Geometric_Diagrams_Score\",\"Experimental Group \")"
   ]
  },
  {
   "cell_type": "code",
   "execution_count": 104,
   "metadata": {},
   "outputs": [
    {
     "name": "stdout",
     "output_type": "stream",
     "text": [
      "SSC CBSE\n"
     ]
    },
    {
     "data": {
      "text/plain": [
       "(84, 31)"
      ]
     },
     "execution_count": 104,
     "metadata": {},
     "output_type": "execute_result"
    }
   ],
   "source": [
    "print(\"SSC\",\"CBSE\")\n",
    "(experimental_group.Board=='SSC').sum(),(experimental_group.Board=='CBSE').sum()"
   ]
  },
  {
   "cell_type": "code",
   "execution_count": 184,
   "metadata": {},
   "outputs": [],
   "source": [
    "import seaborn as sns # include library"
   ]
  },
  {
   "cell_type": "code",
   "execution_count": 182,
   "metadata": {},
   "outputs": [
    {
     "data": {
      "text/plain": [
       "Text(0.5,1,'Control Group')"
      ]
     },
     "execution_count": 182,
     "metadata": {},
     "output_type": "execute_result"
    },
    {
     "data": {
      "image/png": "[encoded data removed]",
      "text/plain": [
       "<Figure size 432x288 with 1 Axes>"
      ]
     },
     "metadata": {},
     "output_type": "display_data"
    }
   ],
   "source": [
    "sns.countplot(x=\"Geometric_Diagrams_Score\",hue = \"Grade\" ,data=control_Group)\n",
    "plt.legend(loc='upper center')\n",
    "plt.title(\"Control Group\")"
   ]
  },
  {
   "cell_type": "code",
   "execution_count": 183,
   "metadata": {},
   "outputs": [
    {
     "data": {
      "text/plain": [
       "Text(0.5,1,'Experimental Group')"
      ]
     },
     "execution_count": 183,
     "metadata": {},
     "output_type": "execute_result"
    },
    {
     "data": {
      "image/png": "[encoded data removed]",
      "text/plain": [
       "<Figure size 432x288 with 1 Axes>"
      ]
     },
     "metadata": {},
     "output_type": "display_data"
    }
   ],
   "source": [
    "sns.countplot(x=\"Geometric_Diagrams_Score\",hue = \"Grade\" ,data=experimental_group)\n",
    "plt.legend(loc='upper center')\n",
    "plt.title(\"Experimental Group\")"
   ]
  },
  {
   "cell_type": "code",
   "execution_count": 186,
   "metadata": {},
   "outputs": [
    {
     "data": {
      "text/plain": [
       "139.16666666666666"
      ]
     },
     "execution_count": 186,
     "metadata": {},
     "output_type": "execute_result"
    }
   ],
   "source": []
  },
  {
   "cell_type": "code",
   "execution_count": null,
   "metadata": {},
   "outputs": [],
   "source": []
  }
 ],
 "metadata": {
  "kernelspec": {
   "display_name": "Python 3",
   "language": "python",
   "name": "python3"
  },
  "language_info": {
   "codemirror_mode": {
    "name": "ipython",
    "version": 3
   },
   "file_extension": ".py",
   "mimetype": "text/x-python",
   "name": "python",
   "nbconvert_exporter": "python",
   "pygments_lexer": "ipython3",
   "version": "3.6.5"
  }
 },
 "nbformat": 4,
 "nbformat_minor": 2
}
